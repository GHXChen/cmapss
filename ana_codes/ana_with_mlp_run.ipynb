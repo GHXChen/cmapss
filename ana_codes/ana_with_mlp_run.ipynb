{
 "cells": [
  {
   "cell_type": "code",
   "execution_count": null,
   "metadata": {
    "collapsed": false,
    "scrolled": false
   },
   "outputs": [
    {
     "name": "stdout",
     "output_type": "stream",
     "text": [
      "The autoreload extension is already loaded. To reload it, use:\n",
      "  %reload_ext autoreload\n"
     ]
    }
   ],
   "source": [
    "import os\n",
    "os.system('jupyter nbconvert --to python ana_with_mlp.ipynb')\n",
    "\n",
    "import itertools\n",
    "\n",
    "frac_list = [1, 5, 10, 20, 50, 80, 90, 100]\n",
    "# frac_list = [80, 90, 100]\n",
    "set_id_list = range(5)\n",
    "\n",
    "for frac, set_id in itertools.product(frac_list, set_id_list):\n",
    "    try:\n",
    "        execfile('ana_with_mlp.py', {'set_id': set_id, 'frac': frac, 'do_print': False})\n",
    "    except Exception as e:\n",
    "        print e.args[0], 'with frac={}, set_id={}'.format(e.args[1], e.args[2])\n",
    "        print '\\n'"
   ]
  },
  {
   "cell_type": "code",
   "execution_count": null,
   "metadata": {
    "collapsed": true
   },
   "outputs": [],
   "source": []
  }
 ],
 "metadata": {
  "kernelspec": {
   "display_name": "Python 2",
   "language": "python",
   "name": "python2"
  },
  "language_info": {
   "codemirror_mode": {
    "name": "ipython",
    "version": 2
   },
   "file_extension": ".py",
   "mimetype": "text/x-python",
   "name": "python",
   "nbconvert_exporter": "python",
   "pygments_lexer": "ipython2",
   "version": "2.7.6"
  }
 },
 "nbformat": 4,
 "nbformat_minor": 0
}
